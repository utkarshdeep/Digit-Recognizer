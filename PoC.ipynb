{
 "cells": [
  {
   "cell_type": "code",
   "execution_count": 74,
   "metadata": {},
   "outputs": [],
   "source": [
    "import pandas as pd\n",
    "import numpy as np\n",
    "import matplotlib.pyplot as plt\n",
    "import seaborn as sns\n",
    "from keras.utils import np_utils\n",
    "%matplotlib inline\n",
    "path = 'data/'"
   ]
  },
  {
   "cell_type": "markdown",
   "metadata": {},
   "source": [
    "#### Import data"
   ]
  },
  {
   "cell_type": "code",
   "execution_count": 75,
   "metadata": {},
   "outputs": [
    {
     "data": {
      "text/html": [
       "<div>\n",
       "<style scoped>\n",
       "    .dataframe tbody tr th:only-of-type {\n",
       "        vertical-align: middle;\n",
       "    }\n",
       "\n",
       "    .dataframe tbody tr th {\n",
       "        vertical-align: top;\n",
       "    }\n",
       "\n",
       "    .dataframe thead th {\n",
       "        text-align: right;\n",
       "    }\n",
       "</style>\n",
       "<table border=\"1\" class=\"dataframe\">\n",
       "  <thead>\n",
       "    <tr style=\"text-align: right;\">\n",
       "      <th></th>\n",
       "      <th>label</th>\n",
       "      <th>pixel0</th>\n",
       "      <th>pixel1</th>\n",
       "      <th>pixel2</th>\n",
       "      <th>pixel3</th>\n",
       "      <th>pixel4</th>\n",
       "      <th>pixel5</th>\n",
       "      <th>pixel6</th>\n",
       "      <th>pixel7</th>\n",
       "      <th>pixel8</th>\n",
       "      <th>...</th>\n",
       "      <th>pixel774</th>\n",
       "      <th>pixel775</th>\n",
       "      <th>pixel776</th>\n",
       "      <th>pixel777</th>\n",
       "      <th>pixel778</th>\n",
       "      <th>pixel779</th>\n",
       "      <th>pixel780</th>\n",
       "      <th>pixel781</th>\n",
       "      <th>pixel782</th>\n",
       "      <th>pixel783</th>\n",
       "    </tr>\n",
       "  </thead>\n",
       "  <tbody>\n",
       "    <tr>\n",
       "      <th>0</th>\n",
       "      <td>1</td>\n",
       "      <td>0</td>\n",
       "      <td>0</td>\n",
       "      <td>0</td>\n",
       "      <td>0</td>\n",
       "      <td>0</td>\n",
       "      <td>0</td>\n",
       "      <td>0</td>\n",
       "      <td>0</td>\n",
       "      <td>0</td>\n",
       "      <td>...</td>\n",
       "      <td>0</td>\n",
       "      <td>0</td>\n",
       "      <td>0</td>\n",
       "      <td>0</td>\n",
       "      <td>0</td>\n",
       "      <td>0</td>\n",
       "      <td>0</td>\n",
       "      <td>0</td>\n",
       "      <td>0</td>\n",
       "      <td>0</td>\n",
       "    </tr>\n",
       "    <tr>\n",
       "      <th>1</th>\n",
       "      <td>0</td>\n",
       "      <td>0</td>\n",
       "      <td>0</td>\n",
       "      <td>0</td>\n",
       "      <td>0</td>\n",
       "      <td>0</td>\n",
       "      <td>0</td>\n",
       "      <td>0</td>\n",
       "      <td>0</td>\n",
       "      <td>0</td>\n",
       "      <td>...</td>\n",
       "      <td>0</td>\n",
       "      <td>0</td>\n",
       "      <td>0</td>\n",
       "      <td>0</td>\n",
       "      <td>0</td>\n",
       "      <td>0</td>\n",
       "      <td>0</td>\n",
       "      <td>0</td>\n",
       "      <td>0</td>\n",
       "      <td>0</td>\n",
       "    </tr>\n",
       "    <tr>\n",
       "      <th>2</th>\n",
       "      <td>1</td>\n",
       "      <td>0</td>\n",
       "      <td>0</td>\n",
       "      <td>0</td>\n",
       "      <td>0</td>\n",
       "      <td>0</td>\n",
       "      <td>0</td>\n",
       "      <td>0</td>\n",
       "      <td>0</td>\n",
       "      <td>0</td>\n",
       "      <td>...</td>\n",
       "      <td>0</td>\n",
       "      <td>0</td>\n",
       "      <td>0</td>\n",
       "      <td>0</td>\n",
       "      <td>0</td>\n",
       "      <td>0</td>\n",
       "      <td>0</td>\n",
       "      <td>0</td>\n",
       "      <td>0</td>\n",
       "      <td>0</td>\n",
       "    </tr>\n",
       "    <tr>\n",
       "      <th>3</th>\n",
       "      <td>4</td>\n",
       "      <td>0</td>\n",
       "      <td>0</td>\n",
       "      <td>0</td>\n",
       "      <td>0</td>\n",
       "      <td>0</td>\n",
       "      <td>0</td>\n",
       "      <td>0</td>\n",
       "      <td>0</td>\n",
       "      <td>0</td>\n",
       "      <td>...</td>\n",
       "      <td>0</td>\n",
       "      <td>0</td>\n",
       "      <td>0</td>\n",
       "      <td>0</td>\n",
       "      <td>0</td>\n",
       "      <td>0</td>\n",
       "      <td>0</td>\n",
       "      <td>0</td>\n",
       "      <td>0</td>\n",
       "      <td>0</td>\n",
       "    </tr>\n",
       "    <tr>\n",
       "      <th>4</th>\n",
       "      <td>0</td>\n",
       "      <td>0</td>\n",
       "      <td>0</td>\n",
       "      <td>0</td>\n",
       "      <td>0</td>\n",
       "      <td>0</td>\n",
       "      <td>0</td>\n",
       "      <td>0</td>\n",
       "      <td>0</td>\n",
       "      <td>0</td>\n",
       "      <td>...</td>\n",
       "      <td>0</td>\n",
       "      <td>0</td>\n",
       "      <td>0</td>\n",
       "      <td>0</td>\n",
       "      <td>0</td>\n",
       "      <td>0</td>\n",
       "      <td>0</td>\n",
       "      <td>0</td>\n",
       "      <td>0</td>\n",
       "      <td>0</td>\n",
       "    </tr>\n",
       "  </tbody>\n",
       "</table>\n",
       "<p>5 rows × 785 columns</p>\n",
       "</div>"
      ],
      "text/plain": [
       "   label  pixel0  pixel1  pixel2  pixel3  pixel4  pixel5  pixel6  pixel7  \\\n",
       "0      1       0       0       0       0       0       0       0       0   \n",
       "1      0       0       0       0       0       0       0       0       0   \n",
       "2      1       0       0       0       0       0       0       0       0   \n",
       "3      4       0       0       0       0       0       0       0       0   \n",
       "4      0       0       0       0       0       0       0       0       0   \n",
       "\n",
       "   pixel8    ...     pixel774  pixel775  pixel776  pixel777  pixel778  \\\n",
       "0       0    ...            0         0         0         0         0   \n",
       "1       0    ...            0         0         0         0         0   \n",
       "2       0    ...            0         0         0         0         0   \n",
       "3       0    ...            0         0         0         0         0   \n",
       "4       0    ...            0         0         0         0         0   \n",
       "\n",
       "   pixel779  pixel780  pixel781  pixel782  pixel783  \n",
       "0         0         0         0         0         0  \n",
       "1         0         0         0         0         0  \n",
       "2         0         0         0         0         0  \n",
       "3         0         0         0         0         0  \n",
       "4         0         0         0         0         0  \n",
       "\n",
       "[5 rows x 785 columns]"
      ]
     },
     "execution_count": 75,
     "metadata": {},
     "output_type": "execute_result"
    }
   ],
   "source": [
    "df = pd.read_csv(path + 'train.csv')\n",
    "df.head()"
   ]
  },
  {
   "cell_type": "raw",
   "metadata": {},
   "source": [
    "Separate the labels the pixel values"
   ]
  },
  {
   "cell_type": "code",
   "execution_count": 76,
   "metadata": {},
   "outputs": [
    {
     "name": "stdout",
     "output_type": "stream",
     "text": [
      "   label\n",
      "0      1\n",
      "1      0\n",
      "2      1\n",
      "3      4\n",
      "4      0\n",
      "<class 'pandas.core.frame.DataFrame'>\n"
     ]
    }
   ],
   "source": [
    "df_labels = df.iloc[:, [0]]\n",
    "print(df_labels.head())\n",
    "print(type(df_labels))"
   ]
  },
  {
   "cell_type": "code",
   "execution_count": 77,
   "metadata": {},
   "outputs": [
    {
     "name": "stdout",
     "output_type": "stream",
     "text": [
      "   pixel0  pixel1  pixel2  pixel3  pixel4  pixel5  pixel6  pixel7  pixel8  \\\n",
      "0       0       0       0       0       0       0       0       0       0   \n",
      "1       0       0       0       0       0       0       0       0       0   \n",
      "2       0       0       0       0       0       0       0       0       0   \n",
      "3       0       0       0       0       0       0       0       0       0   \n",
      "4       0       0       0       0       0       0       0       0       0   \n",
      "\n",
      "   pixel9    ...     pixel774  pixel775  pixel776  pixel777  pixel778  \\\n",
      "0       0    ...            0         0         0         0         0   \n",
      "1       0    ...            0         0         0         0         0   \n",
      "2       0    ...            0         0         0         0         0   \n",
      "3       0    ...            0         0         0         0         0   \n",
      "4       0    ...            0         0         0         0         0   \n",
      "\n",
      "   pixel779  pixel780  pixel781  pixel782  pixel783  \n",
      "0         0         0         0         0         0  \n",
      "1         0         0         0         0         0  \n",
      "2         0         0         0         0         0  \n",
      "3         0         0         0         0         0  \n",
      "4         0         0         0         0         0  \n",
      "\n",
      "[5 rows x 784 columns]\n",
      "<class 'pandas.core.frame.DataFrame'>\n"
     ]
    }
   ],
   "source": [
    "df_pixels = df.iloc[:, 1:]\n",
    "print(df_pixels.head())\n",
    "print(type(df_pixels))"
   ]
  },
  {
   "cell_type": "code",
   "execution_count": 78,
   "metadata": {},
   "outputs": [],
   "source": [
    "from random import randint\n",
    "rand_pixel = df_pixels.iloc[randint(0, 1000), :].values.reshape(28, 28)"
   ]
  },
  {
   "cell_type": "raw",
   "metadata": {},
   "source": [
    "Let's plot the random pixel values."
   ]
  },
  {
   "cell_type": "code",
   "execution_count": 79,
   "metadata": {},
   "outputs": [
    {
     "data": {
      "image/png": "[encoded data removed]",
      "text/plain": [
       "<Figure size 432x288 with 1 Axes>"
      ]
     },
     "metadata": {},
     "output_type": "display_data"
    }
   ],
   "source": [
    "plt.imshow(rand_pixel, cmap='gray')\n",
    "plt.show()"
   ]
  },
  {
   "cell_type": "markdown",
   "metadata": {},
   "source": [
    "### Pre processing data"
   ]
  },
  {
   "cell_type": "code",
   "execution_count": 80,
   "metadata": {},
   "outputs": [],
   "source": [
    "from keras.utils import np_utils\n",
    "df_sample = df.iloc[:20000]\n",
    "X = (df_sample.iloc[:,1:].values).astype('float32')\n",
    "labels = df_sample['label'].values.astype('int32')\n",
    "y = np_utils.to_categorical(labels)\n",
    "\n",
    "scale = np.max(X)\n",
    "X /= scale\n",
    "\n",
    "mean = np.std(X)\n",
    "X -= mean\n",
    "\n",
    "input_dim = X.shape[1]\n",
    "nb_classes = y.shape[1]"
   ]
  },
  {
   "cell_type": "markdown",
   "metadata": {},
   "source": [
    "### Classification using neural net keras."
   ]
  },
  {
   "cell_type": "code",
   "execution_count": 81,
   "metadata": {},
   "outputs": [],
   "source": [
    "from keras.models import Sequential\n",
    "from keras.layers.core import Dense, Activation, Dropout"
   ]
  },
  {
   "cell_type": "code",
   "execution_count": 82,
   "metadata": {},
   "outputs": [],
   "source": [
    "model = Sequential()\n",
    "model.add(Dense(128, input_dim=input_dim))\n",
    "model.add(Activation('relu'))\n",
    "model.add(Dropout(0.15))\n",
    "model.add(Dense(128))\n",
    "model.add(Activation('relu'))\n",
    "model.add(Dropout(0.15))\n",
    "model.add(Dense(nb_classes))\n",
    "model.add(Activation('softmax'))"
   ]
  },
  {
   "cell_type": "code",
   "execution_count": 83,
   "metadata": {},
   "outputs": [],
   "source": [
    "model.compile(loss='categorical_crossentropy', optimizer='rmsprop', metrics = ['accuracy'])"
   ]
  },
  {
   "cell_type": "code",
   "execution_count": 84,
   "metadata": {},
   "outputs": [
    {
     "name": "stdout",
     "output_type": "stream",
     "text": [
      "Epoch 1/60\n",
      " - 1s - loss: 0.4729 - acc: 0.8529\n",
      "Epoch 2/60\n",
      " - 2s - loss: 0.2413 - acc: 0.9256\n",
      "Epoch 3/60\n",
      " - 2s - loss: 0.1850 - acc: 0.9424\n",
      "Epoch 4/60\n",
      " - 2s - loss: 0.1569 - acc: 0.9531\n",
      "Epoch 5/60\n",
      " - 2s - loss: 0.1337 - acc: 0.9601\n",
      "Epoch 6/60\n",
      " - 2s - loss: 0.1201 - acc: 0.9633\n",
      "Epoch 7/60\n",
      " - 2s - loss: 0.1148 - acc: 0.9666\n",
      "Epoch 8/60\n",
      " - 2s - loss: 0.1060 - acc: 0.9688\n",
      "Epoch 9/60\n",
      " - 2s - loss: 0.0968 - acc: 0.9715\n",
      "Epoch 10/60\n",
      " - 2s - loss: 0.0904 - acc: 0.9727\n",
      "Epoch 11/60\n",
      " - 2s - loss: 0.0823 - acc: 0.9756\n",
      "Epoch 12/60\n",
      " - 2s - loss: 0.0781 - acc: 0.9775\n",
      "Epoch 13/60\n",
      " - 2s - loss: 0.0749 - acc: 0.9787\n",
      "Epoch 14/60\n",
      " - 2s - loss: 0.0701 - acc: 0.9795\n",
      "Epoch 15/60\n",
      " - 2s - loss: 0.0738 - acc: 0.9788\n",
      "Epoch 16/60\n",
      " - 2s - loss: 0.0676 - acc: 0.9810\n",
      "Epoch 17/60\n",
      " - 2s - loss: 0.0627 - acc: 0.9823\n",
      "Epoch 18/60\n",
      " - 2s - loss: 0.0665 - acc: 0.9815\n",
      "Epoch 19/60\n",
      " - 2s - loss: 0.0668 - acc: 0.9815\n",
      "Epoch 20/60\n",
      " - 2s - loss: 0.0582 - acc: 0.9837\n",
      "Epoch 21/60\n",
      " - 2s - loss: 0.0597 - acc: 0.9838\n",
      "Epoch 22/60\n",
      " - 2s - loss: 0.0545 - acc: 0.9849\n",
      "Epoch 23/60\n",
      " - 2s - loss: 0.0589 - acc: 0.9847\n",
      "Epoch 24/60\n",
      " - 2s - loss: 0.0572 - acc: 0.9844\n",
      "Epoch 25/60\n",
      " - 2s - loss: 0.0525 - acc: 0.9858\n",
      "Epoch 26/60\n",
      " - 2s - loss: 0.0585 - acc: 0.9852\n",
      "Epoch 27/60\n",
      " - 2s - loss: 0.0602 - acc: 0.9851\n",
      "Epoch 28/60\n",
      " - 2s - loss: 0.0589 - acc: 0.9855\n",
      "Epoch 29/60\n",
      " - 2s - loss: 0.0563 - acc: 0.9869\n",
      "Epoch 30/60\n",
      " - 2s - loss: 0.0598 - acc: 0.9861\n",
      "Epoch 31/60\n",
      " - 2s - loss: 0.0548 - acc: 0.9870\n",
      "Epoch 32/60\n",
      " - 2s - loss: 0.0565 - acc: 0.9865\n",
      "Epoch 33/60\n",
      " - 2s - loss: 0.0587 - acc: 0.9870\n",
      "Epoch 34/60\n",
      " - 2s - loss: 0.0595 - acc: 0.9863\n",
      "Epoch 35/60\n",
      " - 2s - loss: 0.0557 - acc: 0.9878\n",
      "Epoch 36/60\n",
      " - 2s - loss: 0.0644 - acc: 0.9860\n",
      "Epoch 37/60\n",
      " - 2s - loss: 0.0615 - acc: 0.9872\n",
      "Epoch 38/60\n",
      " - 2s - loss: 0.0592 - acc: 0.9876\n",
      "Epoch 39/60\n",
      " - 2s - loss: 0.0550 - acc: 0.9867\n",
      "Epoch 40/60\n",
      " - 2s - loss: 0.0702 - acc: 0.9859\n",
      "Epoch 41/60\n",
      " - 2s - loss: 0.0571 - acc: 0.9876\n",
      "Epoch 42/60\n",
      " - 2s - loss: 0.0540 - acc: 0.9874\n",
      "Epoch 43/60\n",
      " - 2s - loss: 0.0497 - acc: 0.9888\n",
      "Epoch 44/60\n",
      " - 2s - loss: 0.0475 - acc: 0.9893\n",
      "Epoch 45/60\n",
      " - 2s - loss: 0.0520 - acc: 0.9882\n",
      "Epoch 46/60\n",
      " - 2s - loss: 0.0514 - acc: 0.9892\n",
      "Epoch 47/60\n",
      " - 2s - loss: 0.0597 - acc: 0.9887\n",
      "Epoch 48/60\n",
      " - 2s - loss: 0.0650 - acc: 0.9880\n",
      "Epoch 49/60\n",
      " - 2s - loss: 0.0514 - acc: 0.9893\n",
      "Epoch 50/60\n",
      " - 2s - loss: 0.0562 - acc: 0.9877\n",
      "Epoch 51/60\n",
      " - 2s - loss: 0.0562 - acc: 0.9896\n",
      "Epoch 52/60\n",
      " - 2s - loss: 0.0541 - acc: 0.9894\n",
      "Epoch 53/60\n",
      " - 2s - loss: 0.0553 - acc: 0.9896\n",
      "Epoch 54/60\n",
      " - 2s - loss: 0.0624 - acc: 0.9881\n",
      "Epoch 55/60\n",
      " - 2s - loss: 0.0514 - acc: 0.9901\n",
      "Epoch 56/60\n",
      " - 2s - loss: 0.0613 - acc: 0.9883\n",
      "Epoch 57/60\n",
      " - 2s - loss: 0.0524 - acc: 0.9901\n",
      "Epoch 58/60\n",
      " - 2s - loss: 0.0547 - acc: 0.9897\n",
      "Epoch 59/60\n",
      " - 2s - loss: 0.0530 - acc: 0.9892\n",
      "Epoch 60/60\n",
      " - 2s - loss: 0.0569 - acc: 0.9896\n"
     ]
    },
    {
     "data": {
      "text/plain": [
       "<keras.callbacks.History at 0x7faf796ea860>"
      ]
     },
     "execution_count": 84,
     "metadata": {},
     "output_type": "execute_result"
    }
   ],
   "source": [
    "model.fit(X, y, epochs=60, batch_size=32, verbose=2)"
   ]
  },
  {
   "cell_type": "code",
   "execution_count": 85,
   "metadata": {},
   "outputs": [
    {
     "name": "stdout",
     "output_type": "stream",
     "text": [
      "3.1.0\n"
     ]
    }
   ],
   "source": [
    "import cv2 as cv\n",
    "from matplotlib import pyplot as plt\n",
    "print(cv.__version__)"
   ]
  },
  {
   "cell_type": "code",
   "execution_count": 86,
   "metadata": {},
   "outputs": [],
   "source": [
    "img = cv.imread('9.jpeg', 0)"
   ]
  },
  {
   "cell_type": "code",
   "execution_count": 87,
   "metadata": {},
   "outputs": [
    {
     "data": {
      "image/png": "[encoded data removed]",
      "text/plain": [
       "<Figure size 432x288 with 1 Axes>"
      ]
     },
     "metadata": {},
     "output_type": "display_data"
    }
   ],
   "source": [
    "plt.imshow(img, cmap = 'gray', interpolation = 'bicubic')\n",
    "plt.xticks([]), plt.yticks([])  # to hide tick values on X and Y axis\n",
    "plt.show()"
   ]
  },
  {
   "cell_type": "code",
   "execution_count": 88,
   "metadata": {},
   "outputs": [
    {
     "data": {
      "image/png": "[encoded data removed]",
      "text/plain": [
       "<Figure size 432x288 with 1 Axes>"
      ]
     },
     "metadata": {},
     "output_type": "display_data"
    }
   ],
   "source": [
    "cropped = img[:, 40:554]\n",
    "plt.imshow(img, cmap = 'gray', interpolation = 'bicubic')\n",
    "plt.xticks([]), plt.yticks([])  # to hide tick values on X and Y axis\n",
    "plt.show()"
   ]
  },
  {
   "cell_type": "code",
   "execution_count": 89,
   "metadata": {},
   "outputs": [
    {
     "data": {
      "image/png": "[encoded data removed]",
      "text/plain": [
       "<Figure size 432x288 with 1 Axes>"
      ]
     },
     "metadata": {},
     "output_type": "display_data"
    }
   ],
   "source": [
    "r = 28.0/cropped.shape[1]\n",
    "dim = (28, int(cropped.shape[0]*r))\n",
    "resized = cv.resize(cropped, dim, interpolation = cv.INTER_AREA)\n",
    "plt.imshow(resized, cmap = 'gray', interpolation = 'bicubic')\n",
    "plt.xticks([]), plt.yticks([])  # to hide tick values on X and Y axis\n",
    "plt.show()"
   ]
  },
  {
   "cell_type": "code",
   "execution_count": 90,
   "metadata": {},
   "outputs": [],
   "source": [
    "type(resized)\n",
    "resized.astype('float32')\n",
    "resized =  resized/ scale\n",
    "resized -= mean"
   ]
  },
  {
   "cell_type": "code",
   "execution_count": 91,
   "metadata": {},
   "outputs": [
    {
     "name": "stdout",
     "output_type": "stream",
     "text": [
      "[8]\n"
     ]
    }
   ],
   "source": [
    "preds = model.predict_classes(resized.reshape(1, 784), verbose=0)\n",
    "print(preds)"
   ]
  },
  {
   "cell_type": "raw",
   "metadata": {},
   "source": [
    "Read the digit 2."
   ]
  },
  {
   "cell_type": "code",
   "execution_count": 92,
   "metadata": {},
   "outputs": [],
   "source": [
    "img4 = cv.imread('4.jpg', cv.IMREAD_GRAYSCALE)"
   ]
  },
  {
   "cell_type": "code",
   "execution_count": 93,
   "metadata": {},
   "outputs": [
    {
     "data": {
      "text/plain": [
       "True"
      ]
     },
     "execution_count": 93,
     "metadata": {},
     "output_type": "execute_result"
    }
   ],
   "source": [
    "(thresh, im_bw) = cv.threshold(img4, 128, 255, cv.THRESH_BINARY | cv.THRESH_OTSU)\n",
    "cv.imwrite('bw_image.png', im_bw)\n",
    "img2 = cv.bitwise_not(im_bw)\n",
    "cv.imwrite('wb_image.png', im)"
   ]
  },
  {
   "cell_type": "code",
   "execution_count": 94,
   "metadata": {},
   "outputs": [
    {
     "data": {
      "image/png": "[encoded data removed]",
      "text/plain": [
       "<Figure size 432x288 with 1 Axes>"
      ]
     },
     "metadata": {},
     "output_type": "display_data"
    }
   ],
   "source": [
    "plt.imshow(img2, cmap = 'gray', interpolation = 'bicubic')\n",
    "plt.xticks([]), plt.yticks([])  # to hide tick values on X and Y axis\n",
    "plt.show()"
   ]
  },
  {
   "cell_type": "code",
   "execution_count": 95,
   "metadata": {},
   "outputs": [
    {
     "data": {
      "text/plain": [
       "(200, 280)"
      ]
     },
     "execution_count": 95,
     "metadata": {},
     "output_type": "execute_result"
    }
   ],
   "source": [
    "img2.shape"
   ]
  },
  {
   "cell_type": "code",
   "execution_count": 96,
   "metadata": {},
   "outputs": [
    {
     "data": {
      "image/png": "[encoded data removed]",
      "text/plain": [
       "<Figure size 432x288 with 1 Axes>"
      ]
     },
     "metadata": {},
     "output_type": "display_data"
    },
    {
     "name": "stdout",
     "output_type": "stream",
     "text": [
      "(514, 514)\n"
     ]
    }
   ],
   "source": [
    "cropped2 = img2[:, 40:240]\n",
    "plt.imshow(img2, cmap = 'gray', interpolation = 'bicubic')\n",
    "plt.xticks([]), plt.yticks([])  # to hide tick values on X and Y axis\n",
    "plt.show()\n",
    "print(cropped.shape)"
   ]
  },
  {
   "cell_type": "code",
   "execution_count": 97,
   "metadata": {},
   "outputs": [
    {
     "data": {
      "image/png": "[encoded data removed]",
      "text/plain": [
       "<Figure size 432x288 with 1 Axes>"
      ]
     },
     "metadata": {},
     "output_type": "display_data"
    }
   ],
   "source": [
    "r = 28.0/cropped2.shape[1]\n",
    "dim = (28, int(cropped2.shape[0]*r))\n",
    "resized2 = cv.resize(cropped2, dim, interpolation = cv.INTER_AREA)\n",
    "plt.imshow(resized2, cmap = 'gray', interpolation = 'bicubic')\n",
    "plt.xticks([]), plt.yticks([])  # to hide tick values on X and Y axis\n",
    "plt.show()"
   ]
  },
  {
   "cell_type": "code",
   "execution_count": 98,
   "metadata": {},
   "outputs": [],
   "source": [
    "resized2 = resized2.reshape(1, 784)\n",
    "resized2.astype('float32')\n",
    "resized2 =  resized/ scale\n",
    "resized2 -= mean"
   ]
  },
  {
   "cell_type": "code",
   "execution_count": 99,
   "metadata": {},
   "outputs": [
    {
     "name": "stdout",
     "output_type": "stream",
     "text": [
      "[5]\n"
     ]
    }
   ],
   "source": [
    "preds = model.predict_classes(resized2.reshape(1, 784), verbose=0)\n",
    "print(preds)"
   ]
  },
  {
   "cell_type": "code",
   "execution_count": 100,
   "metadata": {},
   "outputs": [
    {
     "data": {
      "image/png": "[encoded data removed]",
      "text/plain": [
       "<Figure size 432x288 with 1 Axes>"
      ]
     },
     "metadata": {},
     "output_type": "display_data"
    },
    {
     "name": "stdout",
     "output_type": "stream",
     "text": [
      "[8]\n"
     ]
    }
   ],
   "source": [
    "rand_pixel = df_pixels.iloc[randint(0, 1000), :].values.reshape(28, 28)\n",
    "plt.imshow(rand_pixel, cmap='gray')\n",
    "plt.show()\n",
    "rand_pixel = rand_pixel.reshape(1, 784)\n",
    "rand_pixel.astype('float32')\n",
    "rand_pixel = rand_pixel/ scale\n",
    "rand_pixel -= mean\n",
    "preds = model.predict_classes(rand_pixel, verbose=0)\n",
    "print(preds)"
   ]
  }
 ],
 "metadata": {
  "kernelspec": {
   "display_name": "Python [conda env:digit]",
   "language": "python",
   "name": "conda-env-digit-py"
  },
  "language_info": {
   "codemirror_mode": {
    "name": "ipython",
    "version": 3
   },
   "file_extension": ".py",
   "mimetype": "text/x-python",
   "name": "python",
   "nbconvert_exporter": "python",
   "pygments_lexer": "ipython3",
   "version": "3.6.4"
  }
 },
 "nbformat": 4,
 "nbformat_minor": 2
}
